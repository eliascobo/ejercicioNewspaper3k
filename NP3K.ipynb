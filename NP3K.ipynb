{
 "cells": [
  {
   "cell_type": "code",
   "execution_count": 2,
   "metadata": {},
   "outputs": [
    {
     "name": "stdout",
     "output_type": "stream",
     "text": [
      "The autoreload extension is already loaded. To reload it, use:\n",
      "  %reload_ext autoreload\n",
      "Palabra <the>: 8 \n",
      "Palabra <of>: 5 \n",
      "Palabra <and>: 3 \n",
      "Palabra <a>: 2 \n",
      "Palabra <creative>: 2 \n",
      "Palabra <internet>: 2 \n",
      "Palabra <class>: 2 \n",
      "Palabra <two>: 1 \n",
      "Palabra <years>: 1 \n",
      "Palabra <ago>: 1 \n",
      "Palabra <kenneth>: 1 \n",
      "Palabra <goldsmith>: 1 \n",
      "Palabra <university>: 1 \n",
      "Palabra <pennsylvania>: 1 \n",
      "Palabra <poet>: 1 \n",
      "Palabra <conceptual>: 1 \n",
      "Palabra <artist>: 1 \n",
      "Palabra <taught>: 1 \n",
      "Palabra <writing>: 1 \n",
      "Palabra <course>: 1 \n",
      "Palabra <he>: 1 \n",
      "Palabra <called>: 1 \n",
      "Palabra <wasting>: 1 \n",
      "Palabra <time>: 1 \n",
      "Palabra <on>: 1 \n",
      "Palabra <students>: 1 \n",
      "Palabra <would>: 1 \n",
      "Palabra <do>: 1 \n",
      "Palabra <just>: 1 \n",
      "Palabra <that>: 1 \n",
      "Palabra <probing>: 1 \n",
      "Palabra <tedium>: 1 \n",
      "Palabra <but>: 1 \n",
      "Palabra <thanks>: 1 \n",
      "Palabra <to>: 1 \n",
      "Palabra <in>: 1 \n",
      "Palabra <use>: 1 \n",
      "Palabra <social>: 1 \n",
      "Palabra <media>: 1 \n",
      "Palabra <also>: 1 \n",
      "Palabra <became>: 1 \n",
      "Palabra <ferment>: 1 \n",
      "Palabra <improvised>: 1 \n",
      "Palabra <dance>: 1 \n",
      "Palabra <trust>: 1 \n",
      "Palabra <experiments>: 1 \n",
      "Palabra <inquiries>: 1 \n",
      "Palabra <into>: 1 \n",
      "Palabra <modern>: 1 \n",
      "Palabra <nature>: 1 \n",
      "Palabra <self>: 1 \n",
      "Palabra <crowd>: 1 \n"
     ]
    }
   ],
   "source": [
    "#Autor Elias Daniel Cobo Medvedsky#\n",
    "\n",
    "%load_ext autoreload\n",
    "%autoreload 2\n",
    "\n",
    "import ej1\n",
    "\n",
    "url=\"https://www.nytimes.com/2016/08/07/education/edlife/kenneth-goldsmith-on-wasting-time-on-the-internet.html\"\n",
    "x = ej1.body(url)\n",
    "\n",
    "for key, value in x.items():\n",
    "    print(\"Palabra <{}>: {} \".format(key, value))"
   ]
  },
  {
   "cell_type": "code",
   "execution_count": null,
   "metadata": {},
   "outputs": [],
   "source": []
  }
 ],
 "metadata": {
  "kernelspec": {
   "display_name": "Python 3.7.3 (Curso Pae)",
   "language": "python",
   "name": "curso_pae"
  },
  "language_info": {
   "codemirror_mode": {
    "name": "ipython",
    "version": 3
   },
   "file_extension": ".py",
   "mimetype": "text/x-python",
   "name": "python",
   "nbconvert_exporter": "python",
   "pygments_lexer": "ipython3",
   "version": "3.7.4"
  }
 },
 "nbformat": 4,
 "nbformat_minor": 2
}
